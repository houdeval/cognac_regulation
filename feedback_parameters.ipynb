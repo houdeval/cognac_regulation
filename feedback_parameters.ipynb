{
 "cells": [
  {
   "cell_type": "markdown",
   "metadata": {},
   "source": [
    "# Choosing feedback parameters"
   ]
  },
  {
   "cell_type": "markdown",
   "metadata": {},
   "source": [
    "---\n",
    "## Finding parameters\n",
    "\n",
    "This notebook illustrates how analytical solutions of idealized float displacements may guide the choice of the parameters employed in the state feedback regulation algorithm. These parameters consist of three parameters: an inverse time scale $r$, a velocity $\\nu$, and a length scale $\\delta$ (see this [notebook](https://github.com/houdeval/cognac_regulation/blob/master/feedback_model_description.ipynb) for details about the implementation)\n",
    "\n",
    "\n",
    "Thanks to a simplified simulation, $r$ will be deduced so as to compute $\\lambda_1$ and $\\lambda_2$ which are relaxation parameters. Similarly, the characteristic length of the regulation $\\delta$ and the characteristic velocity $\\nu$ will be estimated so as to use their value in the command law.\n",
    "\n",
    "\n",
    "The estimation of the parameters will be based on a basic dynamical model in which we assume that the float is only subjected to its weight and its Archimedean buoyant force.\n",
    "\n",
    "\n",
    "From this model, 4 functions have been implemented :\n",
    "\n",
    "$v_f$ computing the velocity of the float as a function of time and $z_f$ computing the position of the float as a function of time :\n",
    "\n",
    "\n",
    "$$\n",
    "\\begin{align}\n",
    "v_f (t) &= \\frac{\\rho_w u ~g t^{2}}{2 m (1+a)} \\\\\n",
    "z_f (t) &= \\frac{\\rho_w u ~g t^{3}}{6 m (1+a)}\n",
    "\\end{align}\n",
    "$$\n",
    "\n",
    "\n",
    "To assess the time and distance parameters $r$ and $\\delta$, it will be useful to create a function $t_\\nu$ computing the necessary time for the float to reach a given speed $\\nu$ and another function $z_\\nu$ computing the necessary depth for the float to reach the same given speed $\\nu$ :\n",
    "\n",
    "\n",
    "$$\n",
    "\\begin{align}\n",
    "t_\\nu (\\nu) &= \\sqrt{\\frac{2 m (1+a) \\nu}{\\rho_w u ~g}} \\\\\n",
    "z_\\nu (\\nu) &= z_f(t_\\nu(\\nu)) &= \\frac{\\rho_w u ~g (\\sqrt{\\frac{2 m (1+a) \\nu}{\\rho_w u ~g}})^{3}}{6 m (1+a)}\n",
    "\\end{align}\n",
    "$$\n",
    "\n",
    "\n",
    "$g$ acceleration of gravity (m/s$^2$)\n",
    "\n",
    "$v_f$ downward velocity (m/s)\n",
    "\n",
    "$m$ float mass (kg)\n",
    "\n",
    "$a$ float added mass (no dimension)\n",
    "\n",
    "$\\rho_w$ water density (kg/m$^3$)\n",
    "\n",
    "$u$ piston volume rate of change (the piston is supposed to leave the cylinder of the float with a constant velocity $u$) (m$^3$/s)\n",
    "\n",
    "\n",
    "### Estimation of $\\nu$\n",
    "\n",
    "Let's choose first the velocity parameter $\\nu$ that corresponds to the typical vertical velocity the float should move at to perform a correct regulation.\n",
    "\n",
    "This velocity is limited by two phenomena : \n",
    "\n",
    "-On the one hand because of drag, the float cannot move above a certain speed.\n",
    "\n",
    "-On the other hand, a too high speed can beget oscillations when arriving around target depths.\n",
    "\n",
    "Thus overall, $\\nu*\\pi/2$ must correspond to the lower speed among both of these.\n",
    "\n",
    "For example, for ENSTA float, the following graphs show the depth response as a function of time for different regulation speeds : 0.04 m/s, 0.10 m/s, 0.15 m/s and the corresponding velocity as a function of time.\n",
    "\n",
    "![Depth response as a function of time for different regulation speeds : 0.04 m/s, 0.10 m/s, 0.15 m/s](images_feedback_parameters/different_speed_graph.png)\n",
    "\n",
    "![Velocity as a function of time for different regulation speeds : 0.04 m/s, 0.10 m/s, 0.15 m/s](images_feedback_parameters/velocity.png)\n",
    "\n",
    "From these graphs, it can be deduced that the maximal velocity allowing to avoid oscillations and possibly reachable is between 0.10 m/s and 0.15 m/s. Let's choose 0.10 m/s for $\\nu*\\pi/2$."
   ]
  },
  {
   "cell_type": "markdown",
   "metadata": {},
   "source": [
    "\n",
    "### Estimation of $\\delta$\n",
    "\n",
    "$\\delta$ is a length scale that defines the zone of influence around the target depth.\n",
    "\n",
    "That is to say mathematically :\n",
    "\n",
    "The velocity $x_1\\xrightarrow{}0$ when the position error $|x_2-\\overline{x}_2|<\\delta$"
   ]
  },
  {
   "cell_type": "code",
   "execution_count": 1,
   "metadata": {
    "scrolled": true
   },
   "outputs": [],
   "source": [
    "%matplotlib inline\n",
    "#%matplotlib notebook\n",
    "import matplotlib.pyplot as plt\n",
    "import numpy as np"
   ]
  },
  {
   "cell_type": "code",
   "execution_count": 2,
   "metadata": {},
   "outputs": [
    {
     "data": {
      "text/plain": [
       "Text(1, 1, '2 x delta')"
      ]
     },
     "execution_count": 2,
     "metadata": {},
     "output_type": "execute_result"
    },
    {
     "data": {
      "image/png": "[encoded data removed]",
      "text/plain": [
       "<Figure size 432x288 with 1 Axes>"
      ]
     },
     "metadata": {
      "needs_background": "light"
     },
     "output_type": "display_data"
    }
   ],
   "source": [
    "def x_0(e,nu,delta):\n",
    "    # e is x1bar - x1\n",
    "    return nu * np.arctan(e/delta)\n",
    "\n",
    "\n",
    "e = np.linspace(-20,20,100)\n",
    "nu = 10\n",
    "delta = 2\n",
    "fig, ax = plt.subplots()\n",
    "ax.plot(e, x_0(e,nu,delta))\n",
    "ax.set_xlabel('e = x1bar - x1 (m)')\n",
    "ax.set_ylabel('x0 (m/s)')\n",
    "ax.set_title('x0 = nu*arctan((x1bar-x1)/delta), the asymptotes are nu + or - pi/2 : + or - {:.2e}'.format(nu*np.pi/2))\n",
    "ax.grid()\n",
    "ax.arrow(0,0,delta,0,head_width=1, head_length=1, fc='k', ec='k', label = 'delta')\n",
    "ax.arrow(0,0,-delta,0,head_width=1, head_length=1, fc='k', ec='k')\n",
    "ax.text(1,1,\"2 x delta\")\n",
    "\n",
    "\n",
    "\n",
    "#on peut choisir un autre type de fonction seuillee (fonction d'activation) \n",
    "#pour simplifier les calculs du microcontroleur (sigmoid)"
   ]
  },
  {
   "cell_type": "markdown",
   "metadata": {},
   "source": [
    "In short, $\\delta$ corresponds to the depth traveled by the float before reaching the maximum speed $\\nu*\\pi/2$ from an equilibrium.\n",
    "Therefore, to estimate $\\delta$, we can use the previous formula which has been defined previously :\n",
    "\n",
    "$$\n",
    "\\begin{align}\n",
    "\\delta &= z_\\nu (\\nu\\pi/2) &= z_f(t_\\nu(\\nu\\pi/2)) &= \\frac{\\rho_w u ~g (\\sqrt{\\frac{2 m (1+a) *\\nu\\pi/2}{\\rho_w u ~g}})^{3}}{6 m (1+a)}\n",
    "\\end{align}\n",
    "$$\n",
    "\n",
    "### Estimation of $r$\n",
    "\n",
    "The control time scale $1/r$ needs to be equal or larger than the time taken for the float to reach the maximum speed $\\nu*\\pi/2$ from an equilibrium.\n",
    "\n",
    "Thus, $1/r$ is given by :\n",
    "\n",
    "$$\n",
    "\\begin{align}\n",
    "t_\\nu (\\nu\\pi/2) &= \\sqrt{\\frac{2 m (1+a) *\\nu\\pi/2}{\\rho_w u ~g}} \\\\\n",
    "\\end{align}\n",
    "$$"
   ]
  },
  {
   "cell_type": "markdown",
   "metadata": {},
   "source": [
    "\n",
    "## Definition of the parameters and functions\n"
   ]
  },
  {
   "cell_type": "code",
   "execution_count": 3,
   "metadata": {},
   "outputs": [],
   "source": [
    "def zf(t, params):\n",
    "\n",
    "    '''\n",
    "    Function computing the float position depending on time and float parameters\n",
    "    for initial conditions zf = 0 and vf = 0 at the beginning\n",
    "    '''\n",
    "    return (params['u']*g*rho_w*t**3) /6 /params['m'] /(1+params['a'])\n",
    "\n",
    "\n",
    "def vf(t, params):\n",
    "\n",
    "    '''\n",
    "    Function computing the float speed depending on time and float parameters\n",
    "    for initial conditions zf = 0 and vf = 0 at the beginning\n",
    "    '''\n",
    "    return (params['u']*g*rho_w*t**2) / (2*params['m']*(1+params['a']))\n",
    "\n",
    "\n",
    "def tv(v, params):\n",
    "\n",
    "    '''\n",
    "    Function computing the time necessary for the float to reach the speed v\n",
    "    '''\n",
    "    return np.sqrt(2*v*params['m']*(1+params['a'])/(g*rho_w*params['u']))\n",
    "\n",
    "\n",
    "def zv(v, params):\n",
    "\n",
    "    '''\n",
    "    Function computing the distance necessary for the float to reach the speed v\n",
    "    '''\n",
    "    return zf(tv(v,params),params)\n",
    "\n"
   ]
  },
  {
   "cell_type": "code",
   "execution_count": 4,
   "metadata": {},
   "outputs": [
    {
     "name": "stdout",
     "output_type": "stream",
     "text": [
      "{'r': 0.06, 'L': 0.5, 'a': 1.0, 'omega': 2.6179938779914944, 'lead': 0.00175, 'r_piston': 0.025, 'm': 9.0, 'u': 1.431715402026599e-06}\n"
     ]
    }
   ],
   "source": [
    "def omega2dvdt(omega=12.4*2.*np.pi/60., lead=0.0175, r_piston=0.025):\n",
    "\n",
    "    '''\n",
    "    Function computing the piston flow u\n",
    "    parameters:\n",
    "        omega: float [rad/s]\n",
    "            current rotation rate, omega=dphi/dt\n",
    "            for ENSTA float, omega_max = 124.*2.*np.pi/60.,\n",
    "            omega_min = 12.4*2.*np.pi/60.\n",
    "        lead: float [m]\n",
    "            screw lead (i.e. displacement after one screw revolution)\n",
    "            d = phi/2/pi x lead\n",
    "        r_piston: float [m]\n",
    "            piston radius\n",
    "    '''\n",
    "    return omega*lead/2.*r_piston**2\n",
    "\n",
    "\n",
    "'''\n",
    "parameters:\n",
    "    g : gravity acceleration [m.s^-2]\n",
    "    m : float mass [kg]\n",
    "    a : float added mass [no dimension]\n",
    "    r : float radius [m]\n",
    "    L : float length [m]\n",
    "    rho_w : water density [kg.m^3]\n",
    "    omega :  current rotation rate [rad/s]\n",
    "    lead : screw lead (i.e. displacement after one screw revolution) [m]\n",
    "    r_piston : piston radius [m]\n",
    "    u : piston flow [m^3.s^-1]\n",
    "'''\n",
    "\n",
    "g = 9.81 #m.s^-2\n",
    "rho_w = 997 #kg.m^3\n",
    "\n",
    "params_ensta = {'r': 0.06, 'L': 0.5, 'a': 1., 'omega' : 20/48*2.*np.pi, 'lead' : 0.00175, 'r_piston' : 0.025}\n",
    "params_ensta['m'] = 9.0 #1000. * np.pi * params_ensta['r'] ** 2 * params_ensta['L']\n",
    "\n",
    "params_ensta['u'] = omega2dvdt(params_ensta['omega'], params_ensta['lead'], params_ensta['r_piston'])\n",
    "print(params_ensta)\n",
    "\n",
    "\n",
    "params_ifremer = {'r': 0.07, 'L': 0.8278, 'a': 1., 'omega' : 20/48*2.*np.pi, 'lead' : 0.001, 'r_piston' : 0.0195/2}\n",
    "params_ifremer['m'] = 13.315 #1000. * np.pi * params_ifremer['r'] ** 2 * params_ifremer['L']\n",
    "\n",
    "params_ifremer['u'] = omega2dvdt(params_ifremer['omega'], params_ifremer['lead'], params_ifremer['r_piston'])\n"
   ]
  },
  {
   "cell_type": "markdown",
   "metadata": {},
   "source": [
    "---\n",
    "\n",
    "## Simulation\n",
    "\n"
   ]
  },
  {
   "cell_type": "markdown",
   "metadata": {},
   "source": [
    "---\n",
    "### Automatic estimation of feedback parameters\n"
   ]
  },
  {
   "cell_type": "markdown",
   "metadata": {},
   "source": [
    "---\n",
    "### For ENSTA float\n"
   ]
  },
  {
   "cell_type": "code",
   "execution_count": 5,
   "metadata": {},
   "outputs": [
    {
     "name": "stdout",
     "output_type": "stream",
     "text": [
      "maximale velocity assumed = 0.07m/s, nu = 0.0445633840657307m/s, tau = 13.414974115837028s, r = 1/tau = 0.0745435653744163s^-1, delta = 0.31301606270286403m\n"
     ]
    }
   ],
   "source": [
    "vmax_reached = 0.07 #Let's admit that the float will not reach a vertical velocity upper than 0.10 m/s.\n",
    "\n",
    "nu = (2/np.pi)*vmax_reached\n",
    "\n",
    "tau = tv(vmax_reached, params_ensta)\n",
    "\n",
    "r = 1/tau\n",
    "\n",
    "delta = zv(vmax_reached, params_ensta)\n",
    "\n",
    "print('maximale velocity assumed = {}m/s, nu = {}m/s, tau = {}s, r = 1/tau = {}s^-1, delta = {}m'.format(vmax_reached, nu, tau, r,delta))\n"
   ]
  },
  {
   "cell_type": "markdown",
   "metadata": {},
   "source": [
    "---\n",
    "### For IFREMER float\n"
   ]
  },
  {
   "cell_type": "code",
   "execution_count": 6,
   "metadata": {},
   "outputs": [
    {
     "name": "stdout",
     "output_type": "stream",
     "text": [
      "maximale velocity assumed = 0.1m/s, nu = 0.06366197723675814m/s, tau = 66.1522418999259s, r = 1/tau = 0.015116645653714726s^-1, delta = 2.20507472999753m\n"
     ]
    }
   ],
   "source": [
    "vmax_reached = 0.10 #Let's admit that the float will not reach a vertical velocity upper than 0.10 m/s.\n",
    "\n",
    "nu = (2/np.pi)*vmax_reached\n",
    "\n",
    "tau = tv(vmax_reached, params_ifremer)\n",
    "\n",
    "r = 1/tau\n",
    "\n",
    "delta = zv(vmax_reached, params_ifremer)\n",
    "\n",
    "print('maximale velocity assumed = {}m/s, nu = {}m/s, tau = {}s, r = 1/tau = {}s^-1, delta = {}m'.format(vmax_reached, nu, tau, r,delta))\n"
   ]
  },
  {
   "cell_type": "code",
   "execution_count": null,
   "metadata": {},
   "outputs": [],
   "source": []
  }
 ],
 "metadata": {
  "kernelspec": {
   "display_name": "Python 3",
   "language": "python",
   "name": "python3"
  },
  "language_info": {
   "codemirror_mode": {
    "name": "ipython",
    "version": 3
   },
   "file_extension": ".py",
   "mimetype": "text/x-python",
   "name": "python",
   "nbconvert_exporter": "python",
   "pygments_lexer": "ipython3",
   "version": "3.6.7"
  }
 },
 "nbformat": 4,
 "nbformat_minor": 2
}
