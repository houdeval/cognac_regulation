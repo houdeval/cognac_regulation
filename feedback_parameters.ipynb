{
 "cells": [
  {
   "cell_type": "markdown",
   "metadata": {},
   "source": [
    "# Choosing feedback parameters\n",
    "\n",
    "**AP: the scope of this notebook needs to be refined. I like the idea of showing for ENSTA and Ifremer prototypes what choice of parameters the analytical solutions indicate and test this with numerical simulations**\n"
   ]
  },
  {
   "cell_type": "markdown",
   "metadata": {},
   "source": [
    "---\n",
    "## Finding parameters\n",
    "\n",
    "**AP: see comments from feedback_parameters_theory.ipynb for this cell**\n",
    "\n",
    "Thanks to a simplified simulation, $r$ will be deduced so as to compute $\\lambda_1$ and $\\lambda_2$. Similarly, $\\delta$ and $\\nu$ will be estimated so as to use their value in the command law.\n",
    "\n",
    "\n",
    "The estimation of the parameters will be based on a basic model in which we assume that the float is only subjected to its weight and its Archimedean buoyant force.\n",
    "\n",
    "\n",
    "From this model, 4 functions have been implemented :\n",
    "\n",
    "$v_f$ computing the velocity of the float as a function of time and $z_f$ computing the position of the float as a function of time :\n",
    "\n",
    "\n",
    "$$\n",
    "\\begin{align}\n",
    "v_f (t) &= \\frac{\\rho_w u ~g t^{2}}{2 m (1+a)} \\\\\n",
    "z_f (t) &= \\frac{\\rho_w u ~g t^{3}}{6 m (1+a)}\n",
    "\\end{align}\n",
    "$$\n",
    "\n",
    "\n",
    "To assess the time and distance parameters $r$ and $\\delta$, it will be useful to create a function $t_\\nu$ computing the necessary time for the float to reach a given speed $\\nu$ and another function $z_\\nu$ computing the necessary depth for the float to reach the same given speed $\\nu$ :\n",
    "\n",
    "\n",
    "$$\n",
    "\\begin{align}\n",
    "t_\\nu (\\nu) &= \\sqrt{\\frac{2 m (1+a) \\nu}{\\rho_w u ~g}} \\\\\n",
    "z_\\nu (\\nu) &= z_f(t_\\nu(\\nu)) &= \\frac{\\rho_w u ~g (\\sqrt{\\frac{2 m (1+a) \\nu}{\\rho_w u ~g}})^{3}}{6 m (1+a)}\n",
    "\\end{align}\n",
    "$$\n",
    "\n",
    "**AP: you need to put units here**\n",
    "\n",
    "$g$ acceleration of gravity\n",
    "\n",
    "$v_f$ downward velocity\n",
    "\n",
    "$m$ float mass\n",
    "\n",
    "$a$ float added mass\n",
    "\n",
    "$\\rho_w$ water density\n",
    "\n",
    "$u$ piston flow (the piston is supposed to leave the cylinder of the float with a constant velocity $u$)\n",
    "\n",
    "**AP: see comment in other notebook**\n",
    "\n",
    "### Estimation of $\\nu$\n",
    "\n",
    "**AP: this is not an \"estimation\" but a \"choice\", see comments in other notebook**\n",
    "\n",
    "Firstly, let's estimate $\\nu$ corresponding to the typical vertical velocity the float should move at.\n",
    "\n",
    "**AP: \"firstly\" is not elegant ... Let's estimate first the velocity parameter $\\nu$ that corresponds ...**\n",
    "\n",
    "$\\nu*\\pi/2$ must correspond to the maximum velocity that can be reached by the float."
   ]
  },
  {
   "cell_type": "markdown",
   "metadata": {},
   "source": [
    "\n",
    "### Estimation of $\\delta$\n",
    "\n",
    "$\\delta$ is a length scale that defines the zone of influence around the target depth.\n",
    "\n",
    "That is to say mathematically :\n",
    "\n",
    "The velocity $x_1\\xrightarrow{}0$ when the position error $|x_2-\\overline{x}_2|<\\delta$ "
   ]
  },
  {
   "cell_type": "code",
   "execution_count": 1,
   "metadata": {
    "scrolled": true
   },
   "outputs": [],
   "source": [
    "%matplotlib inline\n",
    "#%matplotlib notebook\n",
    "import matplotlib.pyplot as plt\n",
    "import numpy as np"
   ]
  },
  {
   "cell_type": "code",
   "execution_count": 2,
   "metadata": {},
   "outputs": [
    {
     "data": {
      "text/plain": [
       "Text(1, 1, '2 x delta')"
      ]
     },
     "execution_count": 2,
     "metadata": {},
     "output_type": "execute_result"
    },
    {
     "data": {
      "image/png": "[encoded data removed]",
      "text/plain": [
       "<Figure size 432x288 with 1 Axes>"
      ]
     },
     "metadata": {
      "needs_background": "light"
     },
     "output_type": "display_data"
    }
   ],
   "source": [
    "def x_1(e,nu):\n",
    "    # e is x2bar - x2\n",
    "    delta = 1\n",
    "    return nu * np.arctan(e/delta)\n",
    "\n",
    "\n",
    "e = np.linspace(-20,20,100)\n",
    "nu = 3\n",
    "fig, ax = plt.subplots()\n",
    "ax.plot(e, x_1(e,nu))\n",
    "ax.set_xlabel('e = x2bar - x2 (m)')\n",
    "ax.set_ylabel('x1 (m/s)')\n",
    "ax.set_title('x1 = nu*arctan((x2bar-x2)/delta), the asymptotes are nu + or - pi/2 : + or - {:.2e}'.format(nu*np.pi/2))\n",
    "ax.grid()\n",
    "ax.arrow(-4,0,8,0,head_width=1, head_length=1, fc='k', ec='k', label = 'delta')\n",
    "ax.arrow(4,0,-8,0,head_width=1, head_length=1, fc='k', ec='k')\n",
    "ax.text(1,1,\"2 x delta\")"
   ]
  },
  {
   "cell_type": "markdown",
   "metadata": {},
   "source": [
    "In short, $\\delta$ corresponds to the depth traveled by the float before reaching the maximum speed $\\nu*\\pi/2$ from an equilibrium.\n",
    "Therefore, to estimate $\\delta$, we can use the previous formula which has been defined previously :\n",
    "\n",
    "$$\n",
    "\\begin{align}\n",
    "\\delta &= z_\\nu (0.99*\\nu\\pi/2) &= z_f(t_\\nu(0.99*\\nu\\pi/2)) &= \\frac{\\rho_w u ~g (\\sqrt{\\frac{2 m (1+a) *0.99*\\nu\\pi/2}{\\rho_w u ~g}})^{3}}{6 m (1+a)}\n",
    "\\end{align}\n",
    "$$\n",
    "\n",
    "### Estimation of $r$\n",
    "\n",
    "Similarly, $1/r$ corresponds to the necessary time for the float to reach the maximum speed $\\nu*\\pi/2$ from an equilibrium.\n",
    "\n",
    "Thus, 1/r is given by :\n",
    "\n",
    "$$\n",
    "\\begin{align}\n",
    "t_\\nu (0.99*\\nu\\pi/2) &= \\sqrt{\\frac{2 m (1+a) *0.99*\\nu\\pi/2}{\\rho_w u ~g}} \\\\\n",
    "\\end{align}\n",
    "$$"
   ]
  },
  {
   "cell_type": "markdown",
   "metadata": {},
   "source": [
    "\n",
    "## Definition of the parameters and functions\n"
   ]
  },
  {
   "cell_type": "code",
   "execution_count": 3,
   "metadata": {},
   "outputs": [],
   "source": [
    "def omega2dvdt(omega=12.4*2.*np.pi/60., lead=0.0175, r_piston=0.025):\n",
    "\n",
    "    '''\n",
    "    Function computing the piston flow u\n",
    "    parameters:\n",
    "        omega: float [rad/s]\n",
    "            current rotation rate, omega=dphi/dt\n",
    "            for ENSTA float, omega_max = 124.*2.*np.pi/60.,\n",
    "            omega_min = 12.4*2.*np.pi/60.\n",
    "        lead: float [m]\n",
    "            screw lead (i.e. displacement after one screw revolution)\n",
    "            d = phi/2/pi x lead\n",
    "        r_piston: float [m]\n",
    "            piston radius\n",
    "    '''\n",
    "    return omega*lead/2.*r_piston**2\n",
    "\n",
    "\n",
    "'''\n",
    "parameters:\n",
    "    g : gravity acceleration [m.s^-2]\n",
    "    m : float mass [kg]\n",
    "    a : float added mass [no dimension]\n",
    "    r : float radius [m]\n",
    "    L : float length [m]\n",
    "    rho_w : water density [kg.m^3]\n",
    "    omega :  current rotation rate [rad/s]\n",
    "    lead : screw lead (i.e. displacement after one screw revolution) [m]\n",
    "    r_piston : piston radius [m]\n",
    "    u : piston flow [m^3.s^-1]\n",
    "'''\n",
    "\n",
    "g = 9.81 #m.s^-2\n",
    "rho_w = 997 #kg.m^3\n",
    "\n",
    "params = {'r': 0.06, 'L': 0.5, 'a': 1., 'omega' : 12.4*2.*np.pi/60., 'lead' : 0.0175, 'r_piston' : 0.025}\n",
    "params['m'] = 1000. * np.pi * params['r'] ** 2 * params['L']\n",
    "\n",
    "params['u'] = omega2dvdt(params['omega'], params['lead'], params['r_piston'])"
   ]
  },
  {
   "cell_type": "code",
   "execution_count": 4,
   "metadata": {},
   "outputs": [],
   "source": [
    "def zf(t, params):\n",
    "\n",
    "    '''\n",
    "    Function computing the float position depending on time and float parameters\n",
    "    for initial conditions zf = 0 and vf = 0 at the beginning\n",
    "    '''\n",
    "    return (params['u']*g*rho_w*t**3) /6 /params['m'] /(1+params['a'])\n",
    "\n",
    "\n",
    "def vf(t, params):\n",
    "\n",
    "    '''\n",
    "    Function computing the float speed depending on time and float parameters\n",
    "    for initial conditions zf = 0 and vf = 0 at the beginning\n",
    "    '''\n",
    "    return (params['u']*g*rho_w*t**2) / (2*params['m']*(1+params['a']))\n",
    "\n",
    "\n",
    "def tv(v, params):\n",
    "\n",
    "    '''\n",
    "    Function computing the time necessary for the float to reach the speed v\n",
    "    '''\n",
    "    return np.sqrt(2*v*params['m']*(1+params['a'])/(g*rho_w*params['u']))\n",
    "\n",
    "\n",
    "def zv(v, params):\n",
    "\n",
    "    '''\n",
    "    Function computing the distance necessary for the float to reach the speed v\n",
    "    '''\n",
    "    return zf(tv(v,params),params)\n",
    "\n"
   ]
  },
  {
   "cell_type": "markdown",
   "metadata": {},
   "source": [
    "---\n",
    "\n",
    "## Simulation\n",
    "\n"
   ]
  },
  {
   "cell_type": "markdown",
   "metadata": {},
   "source": [
    "---\n",
    "### Automatic estimation of feedback parameters\n"
   ]
  },
  {
   "cell_type": "code",
   "execution_count": 5,
   "metadata": {},
   "outputs": [
    {
     "name": "stdout",
     "output_type": "stream",
     "text": [
      "maximale velocity assumed = 0.1m/s, nu = 0.06366197723675814m/s, r = 0.17611343495543252s^-1, delta = 0.18737923093914452m\n"
     ]
    }
   ],
   "source": [
    "vmax_reached = 0.10 #Let's admit that the float will not reach a vertical velocity upper than 0.10 m/s.\n",
    "\n",
    "nu = (2/np.pi)*vmax_reached\n",
    "\n",
    "r = 1/tv(0.99*vmax_reached, params)\n",
    "\n",
    "delta = zv(0.99*vmax_reached, params)\n",
    "\n",
    "print('maximale velocity assumed = {}m/s, nu = {}m/s, r = {}s^-1, delta = {}m'.format(vmax_reached, nu,r,delta))\n"
   ]
  },
  {
   "cell_type": "code",
   "execution_count": null,
   "metadata": {},
   "outputs": [],
   "source": []
  }
 ],
 "metadata": {
  "kernelspec": {
   "display_name": "Python 3",
   "language": "python",
   "name": "python3"
  },
  "language_info": {
   "codemirror_mode": {
    "name": "ipython",
    "version": 3
   },
   "file_extension": ".py",
   "mimetype": "text/x-python",
   "name": "python",
   "nbconvert_exporter": "python",
   "pygments_lexer": "ipython3",
   "version": "3.6.7"
  }
 },
 "nbformat": 4,
 "nbformat_minor": 2
}
